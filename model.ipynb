{
 "cells": [
  {
   "cell_type": "code",
   "execution_count": 2,
   "id": "3c5008a9",
   "metadata": {},
   "outputs": [],
   "source": [
    "import librosa\n",
    "import os\n",
    "import numpy as np\n",
    "import pandas as pd"
   ]
  },
  {
   "cell_type": "code",
   "execution_count": 3,
   "id": "studied-stephen",
   "metadata": {},
   "outputs": [],
   "source": [
    "\n",
    "d = []\n",
    "for item in os.listdir(\"D:\\\\wav_files\"):\n",
    "    data,sr = librosa.load(f\"D:\\\\wav_files\\\\{item}\",duration=2.97)\n",
    "    temp = librosa.feature.melspectrogram(y=data,sr=sr)\n",
    "    if temp.shape != (128,128): continue\n",
    "    d.append((temp))\n",
    "    "
   ]
  },
  {
   "cell_type": "code",
   "execution_count": 4,
   "id": "unlike-football",
   "metadata": {},
   "outputs": [],
   "source": [
    "x1=np.array([x.reshape((128,128,1)) for x in d])"
   ]
  },
  {
   "cell_type": "code",
   "execution_count": 6,
   "id": "centered-hamburg",
   "metadata": {},
   "outputs": [],
   "source": [
    "df = pd.read_csv(\"Book1.csv\")"
   ]
  },
  {
   "cell_type": "code",
   "execution_count": 7,
   "id": "dated-ranking",
   "metadata": {},
   "outputs": [],
   "source": [
    "from sklearn.model_selection import train_test_split\n",
    "x_train,x_test,y_train,y_test = train_test_split(x1,df.Result,test_size=0.2)"
   ]
  },
  {
   "cell_type": "code",
   "execution_count": 21,
   "id": "hydraulic-mortgage",
   "metadata": {},
   "outputs": [
    {
     "name": "stdout",
     "output_type": "stream",
     "text": [
      "Epoch 1/100\n",
      "4/4 [==============================] - 1s 35ms/step - loss: 30.6877 - accuracy: 0.4500\n",
      "Epoch 2/100\n",
      "4/4 [==============================] - 0s 32ms/step - loss: 9.5114 - accuracy: 0.6500\n",
      "Epoch 3/100\n",
      "4/4 [==============================] - 0s 31ms/step - loss: 9.4106 - accuracy: 0.5917\n",
      "Epoch 4/100\n",
      "4/4 [==============================] - 0s 31ms/step - loss: 5.0233 - accuracy: 0.6333\n",
      "Epoch 5/100\n",
      "4/4 [==============================] - 0s 30ms/step - loss: 2.7999 - accuracy: 0.6417\n",
      "Epoch 6/100\n",
      "4/4 [==============================] - 0s 30ms/step - loss: 1.0123 - accuracy: 0.6167\n",
      "Epoch 7/100\n",
      "4/4 [==============================] - 0s 29ms/step - loss: 0.9339 - accuracy: 0.6750\n",
      "Epoch 8/100\n",
      "4/4 [==============================] - 0s 29ms/step - loss: 0.5864 - accuracy: 0.6333\n",
      "Epoch 9/100\n",
      "4/4 [==============================] - 0s 29ms/step - loss: 0.6116 - accuracy: 0.6750\n",
      "Epoch 10/100\n",
      "4/4 [==============================] - 0s 31ms/step - loss: 0.6164 - accuracy: 0.6000\n",
      "Epoch 11/100\n",
      "4/4 [==============================] - 0s 31ms/step - loss: 0.5871 - accuracy: 0.6250\n",
      "Epoch 12/100\n",
      "4/4 [==============================] - 0s 31ms/step - loss: 0.9464 - accuracy: 0.6000\n",
      "Epoch 13/100\n",
      "4/4 [==============================] - 0s 75ms/step - loss: 0.8648 - accuracy: 0.6500\n",
      "Epoch 14/100\n",
      "4/4 [==============================] - 1s 271ms/step - loss: 0.5737 - accuracy: 0.6583\n",
      "Epoch 15/100\n",
      "4/4 [==============================] - 1s 271ms/step - loss: 0.5959 - accuracy: 0.6083\n",
      "Epoch 16/100\n",
      "4/4 [==============================] - 1s 270ms/step - loss: 0.5660 - accuracy: 0.6667\n",
      "Epoch 17/100\n",
      "4/4 [==============================] - 1s 116ms/step - loss: 0.6017 - accuracy: 0.5500\n",
      "Epoch 18/100\n",
      "4/4 [==============================] - 0s 33ms/step - loss: 0.5498 - accuracy: 0.6750\n",
      "Epoch 19/100\n",
      "4/4 [==============================] - 0s 29ms/step - loss: 0.5434 - accuracy: 0.6750\n",
      "Epoch 20/100\n",
      "4/4 [==============================] - 0s 29ms/step - loss: 0.5245 - accuracy: 0.7000\n",
      "Epoch 21/100\n",
      "4/4 [==============================] - 0s 29ms/step - loss: 0.5243 - accuracy: 0.6583\n",
      "Epoch 22/100\n",
      "4/4 [==============================] - 0s 31ms/step - loss: 0.4992 - accuracy: 0.6667\n",
      "Epoch 23/100\n",
      "4/4 [==============================] - 0s 31ms/step - loss: 0.5508 - accuracy: 0.6583\n",
      "Epoch 24/100\n",
      "4/4 [==============================] - 0s 31ms/step - loss: 0.5059 - accuracy: 0.7333\n",
      "Epoch 25/100\n",
      "4/4 [==============================] - 0s 29ms/step - loss: 0.5577 - accuracy: 0.6667\n",
      "Epoch 26/100\n",
      "4/4 [==============================] - 0s 32ms/step - loss: 0.5343 - accuracy: 0.7083\n",
      "Epoch 27/100\n",
      "4/4 [==============================] - 0s 31ms/step - loss: 0.4735 - accuracy: 0.7167\n",
      "Epoch 28/100\n",
      "4/4 [==============================] - 0s 29ms/step - loss: 0.5720 - accuracy: 0.6833\n",
      "Epoch 29/100\n",
      "4/4 [==============================] - 0s 29ms/step - loss: 0.4881 - accuracy: 0.6917\n",
      "Epoch 30/100\n",
      "4/4 [==============================] - 0s 31ms/step - loss: 0.4986 - accuracy: 0.7000\n",
      "Epoch 31/100\n",
      "4/4 [==============================] - 0s 31ms/step - loss: 0.5476 - accuracy: 0.6417\n",
      "Epoch 32/100\n",
      "4/4 [==============================] - 0s 29ms/step - loss: 0.4814 - accuracy: 0.7333\n",
      "Epoch 33/100\n",
      "4/4 [==============================] - 1s 272ms/step - loss: 0.5061 - accuracy: 0.7000\n",
      "Epoch 34/100\n",
      "4/4 [==============================] - 1s 272ms/step - loss: 0.5375 - accuracy: 0.6917\n",
      "Epoch 35/100\n",
      "4/4 [==============================] - 1s 270ms/step - loss: 0.4625 - accuracy: 0.7750\n",
      "Epoch 36/100\n",
      "4/4 [==============================] - 0s 33ms/step - loss: 0.7244 - accuracy: 0.7000\n",
      "Epoch 37/100\n",
      "4/4 [==============================] - 0s 32ms/step - loss: 0.5261 - accuracy: 0.7750\n",
      "Epoch 38/100\n",
      "4/4 [==============================] - 0s 31ms/step - loss: 0.5005 - accuracy: 0.7000\n",
      "Epoch 39/100\n",
      "4/4 [==============================] - 0s 31ms/step - loss: 0.5626 - accuracy: 0.6500\n",
      "Epoch 40/100\n",
      "4/4 [==============================] - 0s 31ms/step - loss: 0.4797 - accuracy: 0.7667\n",
      "Epoch 41/100\n",
      "4/4 [==============================] - 0s 29ms/step - loss: 0.4957 - accuracy: 0.7500\n",
      "Epoch 42/100\n",
      "4/4 [==============================] - 0s 31ms/step - loss: 0.4920 - accuracy: 0.7500\n",
      "Epoch 43/100\n",
      "4/4 [==============================] - 0s 31ms/step - loss: 0.5454 - accuracy: 0.7250\n",
      "Epoch 44/100\n",
      "4/4 [==============================] - 0s 31ms/step - loss: 0.4987 - accuracy: 0.7500\n",
      "Epoch 45/100\n",
      "4/4 [==============================] - 0s 31ms/step - loss: 0.4783 - accuracy: 0.8000\n",
      "Epoch 46/100\n",
      "4/4 [==============================] - 0s 30ms/step - loss: 0.4396 - accuracy: 0.8083\n",
      "Epoch 47/100\n",
      "4/4 [==============================] - 0s 31ms/step - loss: 0.4568 - accuracy: 0.7500\n",
      "Epoch 48/100\n",
      "4/4 [==============================] - 0s 29ms/step - loss: 0.4515 - accuracy: 0.7417\n",
      "Epoch 49/100\n",
      "4/4 [==============================] - 0s 31ms/step - loss: 0.5605 - accuracy: 0.7167\n",
      "Epoch 50/100\n",
      "4/4 [==============================] - 0s 31ms/step - loss: 0.4646 - accuracy: 0.7250\n",
      "Epoch 51/100\n",
      "4/4 [==============================] - 0s 29ms/step - loss: 0.4597 - accuracy: 0.7667\n",
      "Epoch 52/100\n",
      "4/4 [==============================] - 0s 31ms/step - loss: 0.4724 - accuracy: 0.7750\n",
      "Epoch 53/100\n",
      "4/4 [==============================] - 0s 31ms/step - loss: 0.4602 - accuracy: 0.7500\n",
      "Epoch 54/100\n",
      "4/4 [==============================] - 0s 31ms/step - loss: 0.4820 - accuracy: 0.7417\n",
      "Epoch 55/100\n",
      "4/4 [==============================] - 0s 31ms/step - loss: 0.5035 - accuracy: 0.6750\n",
      "Epoch 56/100\n",
      "4/4 [==============================] - 0s 31ms/step - loss: 0.4380 - accuracy: 0.7583\n",
      "Epoch 57/100\n",
      "4/4 [==============================] - 0s 31ms/step - loss: 0.4603 - accuracy: 0.7583\n",
      "Epoch 58/100\n",
      "4/4 [==============================] - 0s 29ms/step - loss: 0.4550 - accuracy: 0.7750\n",
      "Epoch 59/100\n",
      "4/4 [==============================] - 0s 73ms/step - loss: 0.4287 - accuracy: 0.7750\n",
      "Epoch 60/100\n",
      "4/4 [==============================] - 1s 272ms/step - loss: 0.4551 - accuracy: 0.7333\n",
      "Epoch 61/100\n",
      "4/4 [==============================] - 1s 270ms/step - loss: 0.3917 - accuracy: 0.8417\n",
      "Epoch 62/100\n",
      "4/4 [==============================] - 1s 270ms/step - loss: 0.4317 - accuracy: 0.7500\n",
      "Epoch 63/100\n",
      "4/4 [==============================] - 1s 116ms/step - loss: 0.4032 - accuracy: 0.8083\n",
      "Epoch 64/100\n",
      "4/4 [==============================] - 0s 33ms/step - loss: 0.4256 - accuracy: 0.7833\n",
      "Epoch 65/100\n",
      "4/4 [==============================] - 0s 29ms/step - loss: 0.3819 - accuracy: 0.8500\n",
      "Epoch 66/100\n",
      "4/4 [==============================] - 0s 31ms/step - loss: 0.4214 - accuracy: 0.7583\n",
      "Epoch 67/100\n",
      "4/4 [==============================] - 0s 31ms/step - loss: 0.3853 - accuracy: 0.8250\n",
      "Epoch 68/100\n",
      "4/4 [==============================] - 0s 31ms/step - loss: 0.3952 - accuracy: 0.8000\n",
      "Epoch 69/100\n",
      "4/4 [==============================] - 0s 31ms/step - loss: 0.5720 - accuracy: 0.7833\n",
      "Epoch 70/100\n",
      "4/4 [==============================] - 0s 29ms/step - loss: 0.3397 - accuracy: 0.8333\n",
      "Epoch 71/100\n",
      "4/4 [==============================] - 0s 31ms/step - loss: 0.5916 - accuracy: 0.8000\n",
      "Epoch 72/100\n",
      "4/4 [==============================] - 0s 31ms/step - loss: 0.4265 - accuracy: 0.7750\n",
      "Epoch 73/100\n",
      "4/4 [==============================] - 0s 31ms/step - loss: 0.3788 - accuracy: 0.8167\n",
      "Epoch 74/100\n",
      "4/4 [==============================] - 0s 31ms/step - loss: 0.3904 - accuracy: 0.7917\n",
      "Epoch 75/100\n",
      "4/4 [==============================] - 0s 31ms/step - loss: 0.4108 - accuracy: 0.7750\n",
      "Epoch 76/100\n",
      "4/4 [==============================] - 0s 31ms/step - loss: 0.3864 - accuracy: 0.7667\n",
      "Epoch 77/100\n",
      "4/4 [==============================] - 0s 31ms/step - loss: 0.3915 - accuracy: 0.8250\n",
      "Epoch 78/100\n",
      "4/4 [==============================] - 0s 29ms/step - loss: 0.4027 - accuracy: 0.8000\n",
      "Epoch 79/100\n",
      "4/4 [==============================] - 1s 270ms/step - loss: 0.3840 - accuracy: 0.8417\n",
      "Epoch 80/100\n",
      "4/4 [==============================] - 1s 270ms/step - loss: 0.3805 - accuracy: 0.8417\n",
      "Epoch 81/100\n",
      "4/4 [==============================] - 1s 270ms/step - loss: 0.3879 - accuracy: 0.8083\n",
      "Epoch 82/100\n",
      "4/4 [==============================] - 0s 33ms/step - loss: 0.3797 - accuracy: 0.8083\n",
      "Epoch 83/100\n",
      "4/4 [==============================] - 0s 32ms/step - loss: 0.3957 - accuracy: 0.8417\n",
      "Epoch 84/100\n",
      "4/4 [==============================] - 0s 32ms/step - loss: 0.3688 - accuracy: 0.8333\n",
      "Epoch 85/100\n",
      "4/4 [==============================] - 0s 31ms/step - loss: 0.3236 - accuracy: 0.8417\n",
      "Epoch 86/100\n",
      "4/4 [==============================] - 0s 31ms/step - loss: 0.3887 - accuracy: 0.7833\n",
      "Epoch 87/100\n",
      "4/4 [==============================] - 0s 31ms/step - loss: 0.3302 - accuracy: 0.8333\n",
      "Epoch 88/100\n",
      "4/4 [==============================] - 0s 29ms/step - loss: 0.4198 - accuracy: 0.8250\n",
      "Epoch 89/100\n",
      "4/4 [==============================] - 0s 31ms/step - loss: 0.3539 - accuracy: 0.8667\n",
      "Epoch 90/100\n",
      "4/4 [==============================] - 0s 31ms/step - loss: 0.3297 - accuracy: 0.8667\n",
      "Epoch 91/100\n",
      "4/4 [==============================] - 0s 29ms/step - loss: 0.3849 - accuracy: 0.8083\n",
      "Epoch 92/100\n",
      "4/4 [==============================] - 0s 31ms/step - loss: 0.3653 - accuracy: 0.7750\n",
      "Epoch 93/100\n",
      "4/4 [==============================] - 0s 31ms/step - loss: 0.3272 - accuracy: 0.9250\n",
      "Epoch 94/100\n",
      "4/4 [==============================] - 0s 31ms/step - loss: 0.3208 - accuracy: 0.8167\n",
      "Epoch 95/100\n",
      "4/4 [==============================] - 0s 31ms/step - loss: 0.3790 - accuracy: 0.7917\n",
      "Epoch 96/100\n",
      "4/4 [==============================] - 0s 31ms/step - loss: 0.3710 - accuracy: 0.8083\n",
      "Epoch 97/100\n",
      "4/4 [==============================] - 0s 31ms/step - loss: 0.3429 - accuracy: 0.8250\n",
      "Epoch 98/100\n",
      "4/4 [==============================] - 0s 31ms/step - loss: 0.3255 - accuracy: 0.8333\n",
      "Epoch 99/100\n",
      "4/4 [==============================] - 0s 31ms/step - loss: 0.3633 - accuracy: 0.8250\n",
      "Epoch 100/100\n",
      "4/4 [==============================] - 0s 29ms/step - loss: 0.3452 - accuracy: 0.7917\n"
     ]
    },
    {
     "data": {
      "text/plain": [
       "<tensorflow.python.keras.callbacks.History at 0x2575dfabe80>"
      ]
     },
     "execution_count": 21,
     "metadata": {},
     "output_type": "execute_result"
    }
   ],
   "source": [
    "import tensorflow as tf \n",
    "from tensorflow import keras\n",
    "from tensorflow.keras import layers\n",
    "cnn = keras.Sequential([\n",
    "    layers.Conv2D(filters=32, kernel_size=(3, 3), activation='relu', input_shape=(128,128,1)),\n",
    "    layers.MaxPooling2D((2, 2)),\n",
    "    layers.Dropout(0.5),\n",
    "    \n",
    "    layers.Conv2D(filters=64, kernel_size=(3, 3), activation='relu'),\n",
    "    layers.MaxPooling2D((2, 2)),\n",
    "    layers.Dropout(0.5),\n",
    "    \n",
    "    layers.Flatten(),\n",
    "    layers.Dense(40, activation='relu'),\n",
    "    layers.Dropout(0.5),\n",
    "    layers.Dense(1, activation='sigmoid')\n",
    "])\n",
    "\n",
    "cnn.compile(optimizer='adam',\n",
    "              loss='binary_crossentropy',\n",
    "              metrics=['accuracy'])\n",
    "\n",
    "\n",
    "cnn.fit(x_train, y_train, epochs=100)"
   ]
  },
  {
   "cell_type": "code",
   "execution_count": 22,
   "id": "raised-following",
   "metadata": {},
   "outputs": [
    {
     "name": "stdout",
     "output_type": "stream",
     "text": [
      "1/1 [==============================] - 0s 112ms/step - loss: 2.5454 - accuracy: 0.6333\n"
     ]
    },
    {
     "data": {
      "text/plain": [
       "[2.5454375743865967, 0.6333333253860474]"
      ]
     },
     "execution_count": 22,
     "metadata": {},
     "output_type": "execute_result"
    }
   ],
   "source": [
    "cnn.evaluate(x_test,y_test)"
   ]
  },
  {
   "cell_type": "code",
   "execution_count": 24,
   "id": "copyrighted-passenger",
   "metadata": {},
   "outputs": [],
   "source": [
    "cnn.save(\"model.h5\")"
   ]
  },
  {
   "cell_type": "code",
   "execution_count": 8,
   "id": "related-ticket",
   "metadata": {},
   "outputs": [],
   "source": [
    "from keras.models import load_model\n",
    "function = load_model(\"model.h5\")"
   ]
  },
  {
   "cell_type": "code",
   "execution_count": 15,
   "id": "approved-disney",
   "metadata": {},
   "outputs": [],
   "source": [
    "y=function.predict(x_test)"
   ]
  },
  {
   "cell_type": "code",
   "execution_count": 10,
   "id": "understanding-tunnel",
   "metadata": {},
   "outputs": [
    {
     "data": {
      "text/plain": [
       "34     1\n",
       "52     0\n",
       "125    0\n",
       "25     1\n",
       "135    0\n",
       "108    0\n",
       "11     1\n",
       "145    1\n",
       "0      1\n",
       "14     1\n",
       "6      1\n",
       "23     1\n",
       "112    0\n",
       "39     0\n",
       "91     1\n",
       "83     0\n",
       "148    0\n",
       "103    0\n",
       "27     0\n",
       "58     1\n",
       "76     1\n",
       "102    1\n",
       "21     1\n",
       "122    1\n",
       "88     0\n",
       "123    0\n",
       "128    1\n",
       "139    0\n",
       "1      0\n",
       "60     1\n",
       "Name: Result, dtype: int64"
      ]
     },
     "execution_count": 10,
     "metadata": {},
     "output_type": "execute_result"
    }
   ],
   "source": [
    "y_test"
   ]
  },
  {
   "cell_type": "code",
   "execution_count": 17,
   "id": "wicked-cowboy",
   "metadata": {},
   "outputs": [],
   "source": [
    "a=[]\n",
    "def prob(y):\n",
    "    for i in y:\n",
    "        if i>=0.5:\n",
    "            a.append(1)\n",
    "        else:\n",
    "            a.append(0)"
   ]
  },
  {
   "cell_type": "code",
   "execution_count": 18,
   "id": "changing-baseline",
   "metadata": {},
   "outputs": [],
   "source": [
    "prob(y)"
   ]
  },
  {
   "cell_type": "code",
   "execution_count": 21,
   "id": "amended-connectivity",
   "metadata": {},
   "outputs": [
    {
     "data": {
      "text/plain": [
       "[1, 0, 0, 0, 0]"
      ]
     },
     "execution_count": 21,
     "metadata": {},
     "output_type": "execute_result"
    }
   ],
   "source": [
    "a[:5]"
   ]
  },
  {
   "cell_type": "code",
   "execution_count": 22,
   "id": "supported-defeat",
   "metadata": {},
   "outputs": [
    {
     "data": {
      "text/plain": [
       "34     1\n",
       "52     0\n",
       "125    0\n",
       "25     1\n",
       "135    0\n",
       "Name: Result, dtype: int64"
      ]
     },
     "execution_count": 22,
     "metadata": {},
     "output_type": "execute_result"
    }
   ],
   "source": [
    "y_test[:5]"
   ]
  },
  {
   "cell_type": "code",
   "execution_count": null,
   "id": "quarterly-veteran",
   "metadata": {},
   "outputs": [],
   "source": []
  }
 ],
 "metadata": {
  "kernelspec": {
   "display_name": "Python 3",
   "language": "python",
   "name": "python3"
  },
  "language_info": {
   "codemirror_mode": {
    "name": "ipython",
    "version": 3
   },
   "file_extension": ".py",
   "mimetype": "text/x-python",
   "name": "python",
   "nbconvert_exporter": "python",
   "pygments_lexer": "ipython3",
   "version": "3.9.1"
  }
 },
 "nbformat": 4,
 "nbformat_minor": 5
}
